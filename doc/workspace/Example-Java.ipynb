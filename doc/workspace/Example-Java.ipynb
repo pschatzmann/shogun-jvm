{
 "cells": [
  {
   "cell_type": "markdown",
   "metadata": {},
   "source": [
    "# Shogun in Java #\n",
    "\n",
    "Shogun is and open-source machine learning library that offers a wide range of efficient and unified machine learning methods.\n",
    "\n",
    "It is implemented in C++ and provides the necessary java integration so that it can be used in any language which is based on the JVM:\n",
    "- Java\n",
    "- Scala\n",
    "- Groovy\n",
    "- Kotlin\n",
    "- etc\n",
    "\n",
    "Here is a short introduction which shows how to use Shogun in Java using a GaussianNaiveBayes for predicting IRIS data. \n",
    "We use Jupyter with the BeakerX (http://beakerx.com) kernel.\n",
    "\n",
    "## Installation ##\n",
    "Before you can start you need to install the Shogun binaries with 'conda install -c pschatzmann shogun-jvm'.\n"
   ]
  },
  {
   "cell_type": "markdown",
   "metadata": {},
   "source": [
    "Unfortunalty Shogun is not available via Maven. In order to simplify the usage of Shogun in any JVM environment I crafted the  Shogun-JVM project which provides the binaries in conda and the jars via Maven. You can use these java libraries starting from JDK 1.8. \n",
    "\n",
    "We also add DL4J to simplify the pre-processing of the data."
   ]
  },
  {
   "cell_type": "code",
   "execution_count": 37,
   "metadata": {},
   "outputs": [
    {
     "data": {
      "application/vnd.jupyter.widget-view+json": {
       "model_id": "",
       "version_major": 2,
       "version_minor": 0
      },
      "method": "display_data"
     },
     "metadata": {},
     "output_type": "display_data"
    },
    {
     "data": {
      "application/vnd.jupyter.widget-view+json": {
       "model_id": "650e9e1b-fb5a-4cb0-a0d2-05e038dd5218",
       "version_major": 2,
       "version_minor": 0
      },
      "method": "display_data"
     },
     "metadata": {},
     "output_type": "display_data"
    }
   ],
   "source": [
    "%classpath config resolver maven-public http://pschatzmann.ch/repository/maven-public/\n",
    "%classpath add mvn org.shogun:shogun-jvm:0.0.1-SNAPSHOT"
   ]
  },
  {
   "cell_type": "code",
   "execution_count": null,
   "metadata": {},
   "outputs": [],
   "source": [
    "Here we use shogun-jvm to load the /usr/local/lib/libshogun.so\n",
    "Alternativly you could try to set the LD_LIBRARY_PATH, DYLD_LIBRARY_PATH, java.library.path before the JVM is started or call System.load() yourself."
   ]
  },
  {
   "cell_type": "code",
   "execution_count": 38,
   "metadata": {},
   "outputs": [
    {
     "data": {
      "text/plain": [
       "null"
      ]
     },
     "execution_count": 38,
     "metadata": {},
     "output_type": "execute_result"
    }
   ],
   "source": [
    "org.shogun.ShogunNative.load();\n"
   ]
  },
  {
   "cell_type": "markdown",
   "metadata": {},
   "source": [
    "## Classify and Predict ##\n",
    "Now that we have the data, we need to provide the Shogun RealFeatures and BinaryLabels. We can do this easily from the data that we have defined above:"
   ]
  },
  {
   "cell_type": "code",
   "execution_count": 39,
   "metadata": {},
   "outputs": [
    {
     "data": {
      "text/plain": [
       "1.0"
      ]
     },
     "execution_count": 39,
     "metadata": {},
     "output_type": "execute_result"
    }
   ],
   "source": [
    "// shogun\n",
    "import org.jblas.*;\n",
    "import org.shogun.*;\n",
    "\n",
    "RealFeatures shogunFeaturesTrain =  new RealFeatures(new CSVFile(\"iris_train_features.csv\"));\n",
    "MulticlassLabels shogunLabelsTrain =  new MulticlassLabels(new CSVFile(\"iris_train_labels.csv\"));\n",
    "\n",
    "RealFeatures shogunFeaturesTest =  new RealFeatures(new CSVFile(\"iris_test_features.csv\"));\n",
    "MulticlassLabels shogunLabelsTest =  new MulticlassLabels(new CSVFile(\"iris_test_labels.csv\")); \n",
    "\n",
    "GaussianNaiveBayes classifier = new GaussianNaiveBayes(shogunFeaturesTrain, shogunLabelsTrain);\n",
    "classifier.train();\n",
    "\n",
    "MulticlassLabels predictedLabels = classifier.apply_multiclass(shogunFeaturesTest);\n",
    "\n",
    "MulticlassAccuracy eval = new MulticlassAccuracy();\n",
    "double accuracy = eval.evaluate(predictedLabels, shogunLabelsTest);\n",
    "\n",
    "return accuracy;"
   ]
  }
 ],
 "metadata": {
  "kernelspec": {
   "display_name": "Java",
   "language": "java",
   "name": "java"
  },
  "language_info": {
   "codemirror_mode": "text/x-java",
   "file_extension": ".java",
   "mimetype": "",
   "name": "Java",
   "nbconverter_exporter": "",
   "version": "1.8.0_152-release"
  },
  "toc": {
   "base_numbering": 1,
   "nav_menu": {},
   "number_sections": false,
   "sideBar": false,
   "skip_h1_title": false,
   "title_cell": "Table of Contents",
   "title_sidebar": "Contents",
   "toc_cell": false,
   "toc_position": {},
   "toc_section_display": false,
   "toc_window_display": true
  }
 },
 "nbformat": 4,
 "nbformat_minor": 2
}
