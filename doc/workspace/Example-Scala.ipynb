{
 "cells": [
  {
   "cell_type": "markdown",
   "metadata": {},
   "source": [
    "# Shogun in Scala #\n",
    "\n",
    "Shogun is and open-source machine learning library that offers a wide range of efficient and unified machine learning methods. \n",
    "\n",
    "It is implemented in C++ and provides the necessary java integration so that it can be used in any language which is based on the JVM:\n",
    "- Java\n",
    "- Scala\n",
    "- Groovy\n",
    "- Kotlin\n",
    "- etc\n",
    "\n",
    "Here is a short introduction which shows how to use Shogun in Scala using a GaussianNaiveBayes for predicting IRIS data. \n",
    "We use Jupyter with the BeakerX (http://beakerx.com) kernel.\n",
    "\n",
    "## Setup ##\n",
    "Before you can start you need to install the Shogun binaries with 'conda install -c pschatzmann shogun-jvm'.\n"
   ]
  },
  {
   "cell_type": "markdown",
   "metadata": {},
   "source": [
    "Unfortunalty Shogun is not available via Maven. In order to simplify the usage of Shogun in any JVM environment I crafted the  Shogun-JVM project which provides the binaries in conda and the jars via Maven. You can use these java libraries starting from JDK 1.8. \n",
    "\n",
    "We also add DL4J to simplify the pre-processing of the data."
   ]
  },
  {
   "cell_type": "code",
   "execution_count": 46,
   "metadata": {},
   "outputs": [
    {
     "data": {
      "application/vnd.jupyter.widget-view+json": {
       "model_id": "",
       "version_major": 2,
       "version_minor": 0
      },
      "method": "display_data"
     },
     "metadata": {},
     "output_type": "display_data"
    }
   ],
   "source": [
    "%classpath config resolver maven-public http://pschatzmann.ch/repository/maven-public/\n",
    "%%classpath add mvn \n",
    "org.shogun:shogun-jvm:0.0.1-SNAPSHOT"
   ]
  },
  {
   "cell_type": "markdown",
   "metadata": {},
   "source": [
    "We add the import for Shogun so that we can use the classes without package prefixes:"
   ]
  },
  {
   "cell_type": "code",
   "execution_count": 47,
   "metadata": {},
   "outputs": [
    {
     "data": {
      "text/plain": [
       "import org.jblas._\n",
       "import org.shogun._\n"
      ]
     },
     "execution_count": 47,
     "metadata": {},
     "output_type": "execute_result"
    }
   ],
   "source": [
    "// shogun\n",
    "import org.jblas._\n",
    "import org.shogun._\n"
   ]
  },
  {
   "cell_type": "markdown",
   "metadata": {},
   "source": [
    "Here we use shogun-jvm to load the correct libshogun.so.\n",
    "Alternativly could try to set the LD_LIBRARY_PATH, DYLD_LIBRARY_PATH, java.library.path before the JVM is started or call System load() yourself"
   ]
  },
  {
   "cell_type": "code",
   "execution_count": 48,
   "metadata": {},
   "outputs": [],
   "source": [
    "ShogunNative.load()"
   ]
  },
  {
   "cell_type": "markdown",
   "metadata": {},
   "source": [
    "## Loading of the Shogun Data ##\n",
    "After we have prepared our data we can load it from the files. For the deatils how to setup the data can check the document DataSetup.ipnb. If we already have DoubleMatrix objects we can pass them int constructor of the Feautures and Labels."
   ]
  },
  {
   "cell_type": "code",
   "execution_count": 49,
   "metadata": {},
   "outputs": [
    {
     "data": {
      "text/plain": [
       "[0.000000, 0.000000, 0.000000, 1.000000, 0.000000, 1.000000, 1.000000, 0.000000, 1.000000, 0.000000, 2.000000, 2.000000, 0.000000, 2.000000, 2.000000, 1.000000, 0.000000, 2.000000, 1.000000, 2.000000, 1.000000, 1.000000, 2.000000]"
      ]
     },
     "execution_count": 49,
     "metadata": {},
     "output_type": "execute_result"
    }
   ],
   "source": [
    "var shogunFeaturesTrain =  new RealFeatures(new CSVFile(\"iris_train_features.csv\"))\n",
    "var shogunLabelsTrain =  new MulticlassLabels(new CSVFile(\"iris_train_labels.csv\"))\n",
    "\n",
    "var shogunFeaturesTest =  new RealFeatures(new CSVFile(\"iris_test_features.csv\"))\n",
    "var shogunLabelsTest =  new MulticlassLabels(new CSVFile(\"iris_test_labels.csv\"))\n",
    "\n",
    "shogunLabelsTest.get_labels()"
   ]
  },
  {
   "cell_type": "markdown",
   "metadata": {},
   "source": [
    "We double check the structure of the data in shogun:"
   ]
  },
  {
   "cell_type": "code",
   "execution_count": 50,
   "metadata": {},
   "outputs": [
    {
     "name": "stdout",
     "output_type": "stream",
     "text": [
      "4 / 127\n",
      "1 / 127\n",
      "--------\n",
      "4 / 23\n",
      "1 / 23\n"
     ]
    }
   ],
   "source": [
    "println(shogunFeaturesTrain.get_num_features+\" / \" +shogunFeaturesTrain.get_num_vectors)\n",
    "println(\"1 / \"+shogunLabelsTrain.get_num_labels)\n",
    "println(\"--------\")\n",
    "println(shogunFeaturesTest.get_num_features +\" / \" +shogunFeaturesTest.get_num_vectors)\n",
    "println(\"1 / \"+shogunLabelsTest.get_num_labels)"
   ]
  },
  {
   "cell_type": "code",
   "execution_count": 51,
   "metadata": {},
   "outputs": [
    {
     "data": {
      "text/plain": [
       "[5.400000, 3.400000, 1.500000, 0.400000]"
      ]
     },
     "execution_count": 51,
     "metadata": {},
     "output_type": "execute_result"
    }
   ],
   "source": [
    "shogunFeaturesTest.get_feature_vector(0)"
   ]
  },
  {
   "cell_type": "markdown",
   "metadata": {},
   "source": [
    "## Classify and Predict ##\n"
   ]
  },
  {
   "cell_type": "markdown",
   "metadata": {},
   "source": [
    "We train the MulticlassLogisticRegression:"
   ]
  },
  {
   "cell_type": "code",
   "execution_count": 52,
   "metadata": {},
   "outputs": [
    {
     "data": {
      "text/plain": [
       "true"
      ]
     },
     "execution_count": 52,
     "metadata": {},
     "output_type": "execute_result"
    }
   ],
   "source": [
    "var classifier = new GaussianNaiveBayes(shogunFeaturesTrain, shogunLabelsTrain)\n",
    "\n",
    "classifier.train()"
   ]
  },
  {
   "cell_type": "code",
   "execution_count": 53,
   "metadata": {},
   "outputs": [
    {
     "data": {
      "text/plain": [
       "[0.000000, 0.000000, 0.000000, 1.000000, 0.000000, 1.000000, 1.000000, 0.000000, 1.000000, 0.000000, 2.000000, 2.000000, 0.000000, 2.000000, 2.000000, 1.000000, 0.000000, 2.000000, 1.000000, 2.000000, 1.000000, 1.000000, 2.000000]"
      ]
     },
     "execution_count": 53,
     "metadata": {},
     "output_type": "execute_result"
    }
   ],
   "source": [
    "var predictedLabels = classifier.apply_multiclass(shogunFeaturesTest)\n",
    "\n",
    "predictedLabels.get_labels()"
   ]
  },
  {
   "cell_type": "code",
   "execution_count": 54,
   "metadata": {},
   "outputs": [
    {
     "data": {
      "text/plain": [
       "[0.000000, 0.000000, 0.000000, 1.000000, 0.000000, 1.000000, 1.000000, 0.000000, 1.000000, 0.000000, 2.000000, 2.000000, 0.000000, 2.000000, 2.000000, 1.000000, 0.000000, 2.000000, 1.000000, 2.000000, 1.000000, 1.000000, 2.000000]"
      ]
     },
     "execution_count": 54,
     "metadata": {},
     "output_type": "execute_result"
    }
   ],
   "source": [
    "shogunLabelsTest.get_labels()"
   ]
  },
  {
   "cell_type": "markdown",
   "metadata": {},
   "source": [
    "Finally we can calculate the accuracy of our prediction:"
   ]
  },
  {
   "cell_type": "code",
   "execution_count": 55,
   "metadata": {},
   "outputs": [
    {
     "data": {
      "text/plain": [
       "1.0"
      ]
     },
     "execution_count": 55,
     "metadata": {},
     "output_type": "execute_result"
    }
   ],
   "source": [
    "var eval = new MulticlassAccuracy()\n",
    "var accuracy = eval.evaluate(predictedLabels, shogunLabelsTest)\n"
   ]
  },
  {
   "cell_type": "code",
   "execution_count": null,
   "metadata": {},
   "outputs": [],
   "source": []
  }
 ],
 "metadata": {
  "kernelspec": {
   "display_name": "Scala",
   "language": "scala",
   "name": "scala"
  },
  "language_info": {
   "codemirror_mode": "text/x-scala",
   "file_extension": ".scala",
   "mimetype": "",
   "name": "Scala",
   "nbconverter_exporter": "",
   "version": "2.11.12"
  },
  "toc": {
   "base_numbering": 1,
   "nav_menu": {},
   "number_sections": false,
   "sideBar": false,
   "skip_h1_title": false,
   "title_cell": "Table of Contents",
   "title_sidebar": "Contents",
   "toc_cell": false,
   "toc_position": {},
   "toc_section_display": false,
   "toc_window_display": true
  }
 },
 "nbformat": 4,
 "nbformat_minor": 2
}
