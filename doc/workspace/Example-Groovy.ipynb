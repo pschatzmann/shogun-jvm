{
 "cells": [
  {
   "cell_type": "markdown",
   "metadata": {},
   "source": [
    "# Shogun in Groovy #\n",
    "\n",
    "Shogun is and open-source machine learning library that offers a wide range of efficient and unified machine learning methods.\n",
    "\n",
    "It is implemented in C++ and provides the necessary java integration so that it can be used in any language which is based on the JVM:\n",
    "- Java\n",
    "- Scala\n",
    "- Groovy\n",
    "- Kotlin\n",
    "- etc\n",
    "\n",
    "Here is a short introduction which shows how to use Shogun in Groovy using a GaussianNaiveBayes for predicting IRIS data. \n",
    "We use Jupyter with the BeakerX (http://beakerx.com) kernel.\n",
    "\n",
    "## Setup  ##\n",
    "Before you can start you need to install the Shogun binaries with 'conda install -c pschatzmann shogun-jvm'.\n",
    "\n",
    "### Installation  ###\n"
   ]
  },
  {
   "cell_type": "markdown",
   "metadata": {},
   "source": [
    "Unfortunalty Shogun was not available via Maven. In order to simplify the usage of Shogun in any JVM environment we crafted the  Shogun-JVM project which provides the binaries in conda and the jars via Maven. You can use these java libraries starting from JDK 1.8. \n"
   ]
  },
  {
   "cell_type": "code",
   "execution_count": 4,
   "metadata": {},
   "outputs": [
    {
     "data": {
      "application/vnd.jupyter.widget-view+json": {
       "model_id": "",
       "version_major": 2,
       "version_minor": 0
      },
      "method": "display_data"
     },
     "metadata": {},
     "output_type": "display_data"
    }
   ],
   "source": [
    "%classpath config resolver maven-public http://pschatzmann.ch/repository/maven-public/\n",
    "%%classpath add mvn \n",
    "org.shogun:shogun-jvm:0.0.1-SNAPSHOT"
   ]
  },
  {
   "cell_type": "markdown",
   "metadata": {},
   "source": [
    "We add the import for Shogun so that we can use the classes without package prefixes:"
   ]
  },
  {
   "cell_type": "markdown",
   "metadata": {},
   "source": [
    "Here we use shogun-jvm to load the correct libshogun.so.\n",
    "Alternativly could try to set the LD_LIBRARY_PATH, DYLD_LIBRARY_PATH, java.library.path before the JVM is started or call System load() yourself"
   ]
  },
  {
   "cell_type": "code",
   "execution_count": 5,
   "metadata": {},
   "outputs": [
    {
     "data": {
      "text/plain": [
       "null"
      ]
     },
     "execution_count": 5,
     "metadata": {},
     "output_type": "execute_result"
    }
   ],
   "source": [
    "org.shogun.ShogunNative.load()"
   ]
  },
  {
   "cell_type": "markdown",
   "metadata": {},
   "source": [
    "## Train and Evaluate ##\n",
    "\n",
    "Now we can train, predict and evaluate a GaussianNaiveBayes classifier:"
   ]
  },
  {
   "cell_type": "code",
   "execution_count": 3,
   "metadata": {},
   "outputs": [
    {
     "data": {
      "text/plain": [
       "0.8695652173913043"
      ]
     },
     "execution_count": 3,
     "metadata": {},
     "output_type": "execute_result"
    }
   ],
   "source": [
    "import org.shogun.*\n",
    "\n",
    "def shogunFeaturesTrain = new  RealFeatures(new CSVFile(\"iris_train_features.csv\"))\n",
    "def shogunLabelsTrain =  new MulticlassLabels(new CSVFile(\"iris_train_labels.csv\"))\n",
    "\n",
    "def shogunFeaturesTest =  new RealFeatures(new CSVFile(\"iris_test_features.csv\"))\n",
    "def shogunLabelsTest =  new MulticlassLabels(new CSVFile(\"iris_test_labels.csv\"))\n",
    "\n",
    "def classifier = new GaussianNaiveBayes(shogunFeaturesTrain, shogunLabelsTrain)\n",
    "classifier.train()\n",
    "\n",
    "def predictedLabels = classifier.apply_multiclass(shogunFeaturesTest)\n",
    "\n",
    "def eval = new MulticlassAccuracy()\n",
    "double accuracy = eval.evaluate(predictedLabels, shogunLabelsTest)\n",
    "\n",
    "accuracy"
   ]
  },
  {
   "cell_type": "code",
   "execution_count": null,
   "metadata": {},
   "outputs": [],
   "source": []
  }
 ],
 "metadata": {
  "kernelspec": {
   "display_name": "Groovy",
   "language": "groovy",
   "name": "groovy"
  },
  "language_info": {
   "codemirror_mode": "groovy",
   "file_extension": ".groovy",
   "mimetype": "",
   "name": "Groovy",
   "nbconverter_exporter": "",
   "version": "2.4.3"
  },
  "toc": {
   "base_numbering": 1,
   "nav_menu": {},
   "number_sections": false,
   "sideBar": false,
   "skip_h1_title": false,
   "title_cell": "Table of Contents",
   "title_sidebar": "Contents",
   "toc_cell": false,
   "toc_position": {},
   "toc_section_display": false,
   "toc_window_display": true
  }
 },
 "nbformat": 4,
 "nbformat_minor": 2
}
